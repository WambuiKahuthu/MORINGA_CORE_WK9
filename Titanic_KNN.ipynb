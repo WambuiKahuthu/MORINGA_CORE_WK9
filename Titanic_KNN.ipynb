{
  "nbformat": 4,
  "nbformat_minor": 0,
  "metadata": {
    "colab": {
      "name": "Titanic_KNN.ipynb",
      "provenance": [],
      "collapsed_sections": [
        "SeRmTXpolHV2",
        "QpHzU7VrlNXE",
        "eVoa9ZuOUXeb",
        "4q50P2Gf_Btn"
      ],
      "authorship_tag": "ABX9TyM8or9f/zZD96BgjnJMSusO",
      "include_colab_link": true
    },
    "kernelspec": {
      "display_name": "Python 3",
      "name": "python3"
    },
    "language_info": {
      "name": "python"
    }
  },
  "cells": [
    {
      "cell_type": "markdown",
      "metadata": {
        "id": "view-in-github",
        "colab_type": "text"
      },
      "source": [
        "<a href=\"https://colab.research.google.com/github/WambuiKahuthu/MORINGA_CORE_WK9/blob/main/Titanic_KNN.ipynb\" target=\"_parent\"><img src=\"https://colab.research.google.com/assets/colab-badge.svg\" alt=\"Open In Colab\"/></a>"
      ]
    },
    {
      "cell_type": "markdown",
      "metadata": {
        "id": "bc4qIbrkNaGd"
      },
      "source": [
        "# Prediction of Survival Status of Titanic Passengers  \n",
        "  \n",
        "## Overview\n",
        "**i. Understanding the context**  \n",
        "RMS Titanic was a British passenger liner operated by the White Star Line that sank in the North Atlantic Ocean on 15 April 1912, after striking an iceberg during her maiden voyage from Southampton to New York City. Of the estimated 2,224 passengers and crew aboard, more than 1,500 died, making the sinking at the time one of the deadliest of a single ship and the deadliest peacetime sinking of a superliner or cruise ship to date.  Data on the people on board was collected and we would like to create a model that predicts whether or not a passenger survived based on the given data\n",
        "  \n",
        "**ii. Specifying the objectives**  \n",
        "The specific objective of this project are:  \n",
        "> To build a model that determines whether or not a passenger survived the accident.\n",
        "\n",
        "**iii. Defining the metric for success**  \n",
        "The project will be considered successful when the model has an accuracy score and recall score of 85% and above.   \n",
        "\n",
        "**iv. Data relevance**  \n",
        "The following are the variables contained in the retreived dataset and their description.  \n",
        "* Survived - Survival status of the passengers 0 = No, 1 = Yes\n",
        "* Pclass - Ticket class (1 = 1st, 2 = 2nd, 3 = 3rd)\n",
        "* Sex - Gender of the passengers\n",
        "* Age - Age of the passengers in years\n",
        "* SibSp - Number of siblings and/or spouses on-board \n",
        "* ParCh - Number of parents and/or children on-board\n",
        "* Ticket - Ticket number\n",
        "* Fare - Amount paid to board the ship\n",
        "* Cabin - Cabin number\n",
        "* Embarked - Port of embarkation (C = Cherbourg, Q = Queenstown, S = Southampton)  \n",
        "The given data seems to be relevant for the project\n",
        "\n",
        "**v. Project design**  \n",
        "In order to work on the above problem, we need to do the following:\n",
        "\n",
        "a. Acquire the dataset with appropriate data for our project  \n",
        "b. Perform data cleaning by dropping irrelevant data, finding and dealing with duplicates, missing data, and anomalies   \n",
        "c. Perform descriptive analysis to gain insights on the given data  \n",
        "d. Build a KNN classification model   \n",
        "e. Give conclusions and recommendations "
      ]
    },
    {
      "cell_type": "markdown",
      "metadata": {
        "id": "SeRmTXpolHV2"
      },
      "source": [
        "## Importing libraries"
      ]
    },
    {
      "cell_type": "code",
      "metadata": {
        "id": "zAb5x24lWPil"
      },
      "source": [
        "# Import relevant libraries and functions\n",
        "import pandas as pd\n",
        "import numpy as np\n",
        "import matplotlib.pyplot as plt\n",
        "import seaborn as sns \n",
        "\n",
        "from sklearn.model_selection import train_test_split\n",
        "from sklearn.preprocessing import MinMaxScaler\n",
        "from sklearn.neighbors import KNeighborsClassifier\n",
        "from sklearn.metrics import accuracy_score, confusion_matrix, classification_report\n",
        "from sklearn.discriminant_analysis import LinearDiscriminantAnalysis as LDA\n"
      ],
      "execution_count": 104,
      "outputs": []
    },
    {
      "cell_type": "code",
      "metadata": {
        "colab": {
          "base_uri": "https://localhost:8080/"
        },
        "id": "yyDi1wGCD4WS",
        "outputId": "d172cdcc-0c31-4da8-ebaf-3020d59a3712"
      },
      "source": [
        "# Disable future warnings by running this code\n",
        "import warnings\n",
        "warnings.simplefilter(action='ignore', category=FutureWarning)\n",
        "pd.reset_option('all')"
      ],
      "execution_count": 105,
      "outputs": [
        {
          "output_type": "stream",
          "text": [
            "\n",
            ": boolean\n",
            "    use_inf_as_null had been deprecated and will be removed in a future\n",
            "    version. Use `use_inf_as_na` instead.\n",
            "\n"
          ],
          "name": "stdout"
        }
      ]
    },
    {
      "cell_type": "code",
      "metadata": {
        "id": "A0B8cniIQ0Dr"
      },
      "source": [
        "# Set all float results in a dataframe to have only two decimal places\n",
        "pd.set_option('display.float_format', lambda x: '%.2f' % x)"
      ],
      "execution_count": 106,
      "outputs": []
    },
    {
      "cell_type": "markdown",
      "metadata": {
        "id": "QpHzU7VrlNXE"
      },
      "source": [
        "## Loading datasets"
      ]
    },
    {
      "cell_type": "code",
      "metadata": {
        "id": "LPlps8tgW7W2"
      },
      "source": [
        "# Load the train and test files into a pandas dataframe\n",
        "train = pd.read_csv('https://archive.org/download/train5_202002/train%20%285%29.csv')\n",
        "test = pd.read_csv('https://archive.org/download/test1_202002/test%20%281%29.csv')"
      ],
      "execution_count": 107,
      "outputs": []
    },
    {
      "cell_type": "markdown",
      "metadata": {
        "id": "eVoa9ZuOUXeb"
      },
      "source": [
        "## Reading the datasets"
      ]
    },
    {
      "cell_type": "code",
      "metadata": {
        "colab": {
          "base_uri": "https://localhost:8080/",
          "height": 200
        },
        "id": "_dBc9TdiydQz",
        "outputId": "5599b9be-9854-4f9a-da7c-d3c48673521d"
      },
      "source": [
        "# Preview the first five rows of the train set\n",
        "train.head()"
      ],
      "execution_count": 108,
      "outputs": [
        {
          "output_type": "execute_result",
          "data": {
            "text/html": [
              "<div>\n",
              "<style scoped>\n",
              "    .dataframe tbody tr th:only-of-type {\n",
              "        vertical-align: middle;\n",
              "    }\n",
              "\n",
              "    .dataframe tbody tr th {\n",
              "        vertical-align: top;\n",
              "    }\n",
              "\n",
              "    .dataframe thead th {\n",
              "        text-align: right;\n",
              "    }\n",
              "</style>\n",
              "<table border=\"1\" class=\"dataframe\">\n",
              "  <thead>\n",
              "    <tr style=\"text-align: right;\">\n",
              "      <th></th>\n",
              "      <th>PassengerId</th>\n",
              "      <th>Survived</th>\n",
              "      <th>Pclass</th>\n",
              "      <th>Name</th>\n",
              "      <th>Sex</th>\n",
              "      <th>Age</th>\n",
              "      <th>SibSp</th>\n",
              "      <th>Parch</th>\n",
              "      <th>Ticket</th>\n",
              "      <th>Fare</th>\n",
              "      <th>Cabin</th>\n",
              "      <th>Embarked</th>\n",
              "    </tr>\n",
              "  </thead>\n",
              "  <tbody>\n",
              "    <tr>\n",
              "      <th>0</th>\n",
              "      <td>1</td>\n",
              "      <td>0</td>\n",
              "      <td>3</td>\n",
              "      <td>Braund, Mr. Owen Harris</td>\n",
              "      <td>male</td>\n",
              "      <td>22.00</td>\n",
              "      <td>1</td>\n",
              "      <td>0</td>\n",
              "      <td>A/5 21171</td>\n",
              "      <td>7.25</td>\n",
              "      <td>NaN</td>\n",
              "      <td>S</td>\n",
              "    </tr>\n",
              "    <tr>\n",
              "      <th>1</th>\n",
              "      <td>2</td>\n",
              "      <td>1</td>\n",
              "      <td>1</td>\n",
              "      <td>Cumings, Mrs. John Bradley (Florence Briggs Th...</td>\n",
              "      <td>female</td>\n",
              "      <td>38.00</td>\n",
              "      <td>1</td>\n",
              "      <td>0</td>\n",
              "      <td>PC 17599</td>\n",
              "      <td>71.28</td>\n",
              "      <td>C85</td>\n",
              "      <td>C</td>\n",
              "    </tr>\n",
              "    <tr>\n",
              "      <th>2</th>\n",
              "      <td>3</td>\n",
              "      <td>1</td>\n",
              "      <td>3</td>\n",
              "      <td>Heikkinen, Miss. Laina</td>\n",
              "      <td>female</td>\n",
              "      <td>26.00</td>\n",
              "      <td>0</td>\n",
              "      <td>0</td>\n",
              "      <td>STON/O2. 3101282</td>\n",
              "      <td>7.92</td>\n",
              "      <td>NaN</td>\n",
              "      <td>S</td>\n",
              "    </tr>\n",
              "    <tr>\n",
              "      <th>3</th>\n",
              "      <td>4</td>\n",
              "      <td>1</td>\n",
              "      <td>1</td>\n",
              "      <td>Futrelle, Mrs. Jacques Heath (Lily May Peel)</td>\n",
              "      <td>female</td>\n",
              "      <td>35.00</td>\n",
              "      <td>1</td>\n",
              "      <td>0</td>\n",
              "      <td>113803</td>\n",
              "      <td>53.10</td>\n",
              "      <td>C123</td>\n",
              "      <td>S</td>\n",
              "    </tr>\n",
              "    <tr>\n",
              "      <th>4</th>\n",
              "      <td>5</td>\n",
              "      <td>0</td>\n",
              "      <td>3</td>\n",
              "      <td>Allen, Mr. William Henry</td>\n",
              "      <td>male</td>\n",
              "      <td>35.00</td>\n",
              "      <td>0</td>\n",
              "      <td>0</td>\n",
              "      <td>373450</td>\n",
              "      <td>8.05</td>\n",
              "      <td>NaN</td>\n",
              "      <td>S</td>\n",
              "    </tr>\n",
              "  </tbody>\n",
              "</table>\n",
              "</div>"
            ],
            "text/plain": [
              "   PassengerId  Survived  Pclass  ...  Fare Cabin  Embarked\n",
              "0            1         0       3  ...  7.25   NaN         S\n",
              "1            2         1       1  ... 71.28   C85         C\n",
              "2            3         1       3  ...  7.92   NaN         S\n",
              "3            4         1       1  ... 53.10  C123         S\n",
              "4            5         0       3  ...  8.05   NaN         S\n",
              "\n",
              "[5 rows x 12 columns]"
            ]
          },
          "metadata": {
            "tags": []
          },
          "execution_count": 108
        }
      ]
    },
    {
      "cell_type": "code",
      "metadata": {
        "colab": {
          "base_uri": "https://localhost:8080/",
          "height": 200
        },
        "id": "qOOPLkpnymzS",
        "outputId": "e9173367-d6e4-4128-fda1-2b6e0d226f2c"
      },
      "source": [
        "# Preview the first five rows of the test set\n",
        "test.head()"
      ],
      "execution_count": 109,
      "outputs": [
        {
          "output_type": "execute_result",
          "data": {
            "text/html": [
              "<div>\n",
              "<style scoped>\n",
              "    .dataframe tbody tr th:only-of-type {\n",
              "        vertical-align: middle;\n",
              "    }\n",
              "\n",
              "    .dataframe tbody tr th {\n",
              "        vertical-align: top;\n",
              "    }\n",
              "\n",
              "    .dataframe thead th {\n",
              "        text-align: right;\n",
              "    }\n",
              "</style>\n",
              "<table border=\"1\" class=\"dataframe\">\n",
              "  <thead>\n",
              "    <tr style=\"text-align: right;\">\n",
              "      <th></th>\n",
              "      <th>PassengerId</th>\n",
              "      <th>Pclass</th>\n",
              "      <th>Name</th>\n",
              "      <th>Sex</th>\n",
              "      <th>Age</th>\n",
              "      <th>SibSp</th>\n",
              "      <th>Parch</th>\n",
              "      <th>Ticket</th>\n",
              "      <th>Fare</th>\n",
              "      <th>Cabin</th>\n",
              "      <th>Embarked</th>\n",
              "    </tr>\n",
              "  </thead>\n",
              "  <tbody>\n",
              "    <tr>\n",
              "      <th>0</th>\n",
              "      <td>892</td>\n",
              "      <td>3</td>\n",
              "      <td>Kelly, Mr. James</td>\n",
              "      <td>male</td>\n",
              "      <td>34.50</td>\n",
              "      <td>0</td>\n",
              "      <td>0</td>\n",
              "      <td>330911</td>\n",
              "      <td>7.83</td>\n",
              "      <td>NaN</td>\n",
              "      <td>Q</td>\n",
              "    </tr>\n",
              "    <tr>\n",
              "      <th>1</th>\n",
              "      <td>893</td>\n",
              "      <td>3</td>\n",
              "      <td>Wilkes, Mrs. James (Ellen Needs)</td>\n",
              "      <td>female</td>\n",
              "      <td>47.00</td>\n",
              "      <td>1</td>\n",
              "      <td>0</td>\n",
              "      <td>363272</td>\n",
              "      <td>7.00</td>\n",
              "      <td>NaN</td>\n",
              "      <td>S</td>\n",
              "    </tr>\n",
              "    <tr>\n",
              "      <th>2</th>\n",
              "      <td>894</td>\n",
              "      <td>2</td>\n",
              "      <td>Myles, Mr. Thomas Francis</td>\n",
              "      <td>male</td>\n",
              "      <td>62.00</td>\n",
              "      <td>0</td>\n",
              "      <td>0</td>\n",
              "      <td>240276</td>\n",
              "      <td>9.69</td>\n",
              "      <td>NaN</td>\n",
              "      <td>Q</td>\n",
              "    </tr>\n",
              "    <tr>\n",
              "      <th>3</th>\n",
              "      <td>895</td>\n",
              "      <td>3</td>\n",
              "      <td>Wirz, Mr. Albert</td>\n",
              "      <td>male</td>\n",
              "      <td>27.00</td>\n",
              "      <td>0</td>\n",
              "      <td>0</td>\n",
              "      <td>315154</td>\n",
              "      <td>8.66</td>\n",
              "      <td>NaN</td>\n",
              "      <td>S</td>\n",
              "    </tr>\n",
              "    <tr>\n",
              "      <th>4</th>\n",
              "      <td>896</td>\n",
              "      <td>3</td>\n",
              "      <td>Hirvonen, Mrs. Alexander (Helga E Lindqvist)</td>\n",
              "      <td>female</td>\n",
              "      <td>22.00</td>\n",
              "      <td>1</td>\n",
              "      <td>1</td>\n",
              "      <td>3101298</td>\n",
              "      <td>12.29</td>\n",
              "      <td>NaN</td>\n",
              "      <td>S</td>\n",
              "    </tr>\n",
              "  </tbody>\n",
              "</table>\n",
              "</div>"
            ],
            "text/plain": [
              "   PassengerId  Pclass  ... Cabin Embarked\n",
              "0          892       3  ...   NaN        Q\n",
              "1          893       3  ...   NaN        S\n",
              "2          894       2  ...   NaN        Q\n",
              "3          895       3  ...   NaN        S\n",
              "4          896       3  ...   NaN        S\n",
              "\n",
              "[5 rows x 11 columns]"
            ]
          },
          "metadata": {
            "tags": []
          },
          "execution_count": 109
        }
      ]
    },
    {
      "cell_type": "code",
      "metadata": {
        "colab": {
          "base_uri": "https://localhost:8080/"
        },
        "id": "1x25fC4xl8Hj",
        "outputId": "b5752482-7cc0-4a94-8215-611a17f77f91"
      },
      "source": [
        "# Check the shape of the train and test sets\n",
        "print(f'The shape of the train set is: {train.shape}\\nThe shape of the test set is: {test.shape}')"
      ],
      "execution_count": 110,
      "outputs": [
        {
          "output_type": "stream",
          "text": [
            "The shape of the train set is: (891, 12)\n",
            "The shape of the test set is: (418, 11)\n"
          ],
          "name": "stdout"
        }
      ]
    },
    {
      "cell_type": "markdown",
      "metadata": {
        "id": "0rMnlBVa7h0e"
      },
      "source": [
        "The test set is missing the 'Survived' column which will be predicted using the model that we are going to build"
      ]
    },
    {
      "cell_type": "code",
      "metadata": {
        "colab": {
          "base_uri": "https://localhost:8080/"
        },
        "id": "Kg04NRQQV6oI",
        "outputId": "24042aad-1bc8-4f7d-9eed-2eceecafdf23"
      },
      "source": [
        "# Check the data types of the columns in each set\n",
        "print(f'The data types of the columns in the train set are:\\n{train.dtypes}\\n\\nThe data types of the columns in the test set are:\\n{test.dtypes}')"
      ],
      "execution_count": 111,
      "outputs": [
        {
          "output_type": "stream",
          "text": [
            "The data types of the columns in the train set are:\n",
            "PassengerId      int64\n",
            "Survived         int64\n",
            "Pclass           int64\n",
            "Name            object\n",
            "Sex             object\n",
            "Age            float64\n",
            "SibSp            int64\n",
            "Parch            int64\n",
            "Ticket          object\n",
            "Fare           float64\n",
            "Cabin           object\n",
            "Embarked        object\n",
            "dtype: object\n",
            "\n",
            "The data types of the columns in the test set are:\n",
            "PassengerId      int64\n",
            "Pclass           int64\n",
            "Name            object\n",
            "Sex             object\n",
            "Age            float64\n",
            "SibSp            int64\n",
            "Parch            int64\n",
            "Ticket          object\n",
            "Fare           float64\n",
            "Cabin           object\n",
            "Embarked        object\n",
            "dtype: object\n"
          ],
          "name": "stdout"
        }
      ]
    },
    {
      "cell_type": "markdown",
      "metadata": {
        "id": "4q50P2Gf_Btn"
      },
      "source": [
        "## Data cleaning"
      ]
    },
    {
      "cell_type": "code",
      "metadata": {
        "colab": {
          "base_uri": "https://localhost:8080/"
        },
        "id": "3ucdeiq2mHNg",
        "outputId": "872c7b45-d9fa-4281-80d8-6a8178974c49"
      },
      "source": [
        "# Check for number of duplicates in each set\n",
        "print(f'The number of duplicates in the train set are: {train.duplicated().sum()}\\nThe number of duplicates in the test set are: {test.duplicated().sum()}')"
      ],
      "execution_count": 112,
      "outputs": [
        {
          "output_type": "stream",
          "text": [
            "The number of duplicates in the train set are: 0\n",
            "The number of duplicates in the test set are: 0\n"
          ],
          "name": "stdout"
        }
      ]
    },
    {
      "cell_type": "code",
      "metadata": {
        "colab": {
          "base_uri": "https://localhost:8080/"
        },
        "id": "HtZ1mH6uA2Z8",
        "outputId": "bbf93f1d-611a-4345-af68-5fc58041cd36"
      },
      "source": [
        "# Check the number of missing values in each column in each set\n",
        "print(f'The number of missing values in each column in the train set is:\\n{train.isnull().sum()}\\n\\nThe number of missing values in each column in the test set is:\\n{test.isnull().sum()}')"
      ],
      "execution_count": 113,
      "outputs": [
        {
          "output_type": "stream",
          "text": [
            "The number of missing values in each column in the train set is:\n",
            "PassengerId      0\n",
            "Survived         0\n",
            "Pclass           0\n",
            "Name             0\n",
            "Sex              0\n",
            "Age            177\n",
            "SibSp            0\n",
            "Parch            0\n",
            "Ticket           0\n",
            "Fare             0\n",
            "Cabin          687\n",
            "Embarked         2\n",
            "dtype: int64\n",
            "\n",
            "The number of missing values in each column in the test set is:\n",
            "PassengerId      0\n",
            "Pclass           0\n",
            "Name             0\n",
            "Sex              0\n",
            "Age             86\n",
            "SibSp            0\n",
            "Parch            0\n",
            "Ticket           0\n",
            "Fare             1\n",
            "Cabin          327\n",
            "Embarked         0\n",
            "dtype: int64\n"
          ],
          "name": "stdout"
        }
      ]
    },
    {
      "cell_type": "markdown",
      "metadata": {
        "id": "gfPSz-liCvGw"
      },
      "source": [
        "'Cabin' column has too many missing values in each set therefore it will be dropped. "
      ]
    },
    {
      "cell_type": "code",
      "metadata": {
        "id": "GJbeZ--VBPmE",
        "colab": {
          "base_uri": "https://localhost:8080/"
        },
        "outputId": "7ca39234-e85b-45bf-cdfd-d686aed06161"
      },
      "source": [
        "# Dealing with missing values\n",
        "\n",
        "#Drop 'Cabin' column in each set\n",
        "train.drop('Cabin', axis=1, inplace=True)\n",
        "test.drop('Cabin', axis=1, inplace=True)\n",
        "\n",
        "# Train set\n",
        "# Fill the missing values in 'Age' with the mean age per gender\n",
        "train['Age'] = round(train['Age'].fillna(train.groupby('Sex')['Age'].transform('mean')))\n",
        "\n",
        "# Fill the missing values in 'Embarked' with the mode\n",
        "train['Embarked'] = train['Embarked'].fillna(train['Embarked'].mode()[0])\n",
        "\n",
        "# Tests set\n",
        "# Fill the missing values in 'Age' with mean age per gender\n",
        "test['Age'] = round(test['Age'].fillna(test.groupby('Sex')['Age'].transform('mean')))\n",
        "\n",
        "# Fill the missing values in 'Fare' with mean fare\n",
        "test['Fare'] = test['Fare'].fillna(test['Fare'].mean())\n",
        "\n",
        "# Check the number of missing values in each set after cleaning\n",
        "print(f'The total number of missing values in the train set is: {train.isnull().sum().sum()}\\nThe total number of missing values in the test set is: {test.isnull().sum().sum()}')"
      ],
      "execution_count": 114,
      "outputs": [
        {
          "output_type": "stream",
          "text": [
            "The total number of missing values in the train set is: 0\n",
            "The total number of missing values in the test set is: 0\n"
          ],
          "name": "stdout"
        }
      ]
    },
    {
      "cell_type": "code",
      "metadata": {
        "id": "xSv5zrOAvQNv"
      },
      "source": [
        "# Drop irrelevant columns\n",
        "train.drop(['Ticket', 'Name', 'PassengerId'], axis=1, inplace=True)\n",
        "test.drop(['Ticket', 'Name', 'PassengerId'], axis=1, inplace=True)"
      ],
      "execution_count": 115,
      "outputs": []
    },
    {
      "cell_type": "code",
      "metadata": {
        "colab": {
          "base_uri": "https://localhost:8080/",
          "height": 1000
        },
        "id": "SbGjSe8zv7Lw",
        "outputId": "8a60bd65-cc57-47fa-e386-f845e4273e31"
      },
      "source": [
        "# Check for outliers in the numerical variables using box plots (train set)\n",
        "\n",
        "# Create a list of the numerical variables\n",
        "numerical = ['Age','SibSp', 'Parch', 'Fare']\n",
        "\n",
        "# Specify the size of the figure\n",
        "fig, ax = plt.subplots(len(numerical), figsize=(8,30))\n",
        "\n",
        "# Plot boxplots for each variable\n",
        "for i, col_val in enumerate(numerical):\n",
        "\n",
        "    sns.boxplot(y=train[col_val], ax=ax[i])\n",
        "    ax[i].set_title('Box plot for {}'.format(col_val), fontsize=14)\n",
        "    ax[i].set_xlabel(col_val, fontsize=12)\n",
        "    ax[i].set_ylabel('Values', fontsize=12)"
      ],
      "execution_count": 116,
      "outputs": [
        {
          "output_type": "display_data",
          "data": {
            "image/png": "[encoded data removed]",
            "text/plain": [
              "<Figure size 576x2160 with 4 Axes>"
            ]
          },
          "metadata": {
            "tags": [],
            "needs_background": "light"
          }
        }
      ]
    },
    {
      "cell_type": "code",
      "metadata": {
        "colab": {
          "base_uri": "https://localhost:8080/",
          "height": 1000
        },
        "id": "3OYuJey2IxsW",
        "outputId": "3e44e12b-bce6-43ed-e531-759667e1db33"
      },
      "source": [
        "# Check for outliers in the numerical variables using box plots (test set)\n",
        "\n",
        "# Specify the size of the figure\n",
        "fig, ax = plt.subplots(len(numerical), figsize=(8,30))\n",
        "\n",
        "# Plot boxplots for each variable\n",
        "for i, col_val in enumerate(numerical):\n",
        "\n",
        "    sns.boxplot(y=test[col_val], ax=ax[i])\n",
        "    ax[i].set_title('Box plot for {}'.format(col_val), fontsize=14)\n",
        "    ax[i].set_xlabel(col_val, fontsize=12)\n",
        "    ax[i].set_ylabel('Values', fontsize=12)"
      ],
      "execution_count": 117,
      "outputs": [
        {
          "output_type": "display_data",
          "data": {
            "image/png": "[encoded data removed]",
            "text/plain": [
              "<Figure size 576x2160 with 4 Axes>"
            ]
          },
          "metadata": {
            "tags": [],
            "needs_background": "light"
          }
        }
      ]
    },
    {
      "cell_type": "markdown",
      "metadata": {
        "id": "u6K-PCwDTTCN"
      },
      "source": [
        "Since all the outliers represent accurate data, there are no justifiable reasons to drop them; for this reason, they will be retained"
      ]
    },
    {
      "cell_type": "code",
      "metadata": {
        "colab": {
          "base_uri": "https://localhost:8080/"
        },
        "id": "SUcDhTcdTMux",
        "outputId": "bf9d617c-0ab1-4832-e386-be40a060aabe"
      },
      "source": [
        "# Identify anomalies in the categorical variables by checking their unique values (train set)\n",
        "\n",
        "# create a list of the categorical variables in the dataframe\n",
        "categorical_train = ['Pclass', 'Sex', 'Embarked', 'Survived']\n",
        "\n",
        "# print out the unique values in each variable\n",
        "for i, col_val in enumerate(categorical_train):\n",
        "  print('Unique values in {}'.format(col_val))\n",
        "  print(train[col_val].unique())\n",
        "  print()"
      ],
      "execution_count": 118,
      "outputs": [
        {
          "output_type": "stream",
          "text": [
            "Unique values in Pclass\n",
            "[3 1 2]\n",
            "\n",
            "Unique values in Sex\n",
            "['male' 'female']\n",
            "\n",
            "Unique values in Embarked\n",
            "['S' 'C' 'Q']\n",
            "\n",
            "Unique values in Survived\n",
            "[0 1]\n",
            "\n"
          ],
          "name": "stdout"
        }
      ]
    },
    {
      "cell_type": "code",
      "metadata": {
        "colab": {
          "base_uri": "https://localhost:8080/"
        },
        "id": "1vx1CHY6fxk9",
        "outputId": "2b303b3e-76fc-403a-dc04-f9f4c4976942"
      },
      "source": [
        "# Identify anomalies in the categorical variables by checking their unique values (test set)\n",
        "\n",
        "# create a list of the categorical variables in the dataframe\n",
        "categorical_test= ['Pclass', 'Sex', 'Embarked']\n",
        "\n",
        "# print out the unique values in each variable\n",
        "for i, col_val in enumerate(categorical_test):\n",
        "  print('Unique values in {}'.format(col_val))\n",
        "  print(test[col_val].unique())\n",
        "  print()"
      ],
      "execution_count": 119,
      "outputs": [
        {
          "output_type": "stream",
          "text": [
            "Unique values in Pclass\n",
            "[3 2 1]\n",
            "\n",
            "Unique values in Sex\n",
            "['male' 'female']\n",
            "\n",
            "Unique values in Embarked\n",
            "['Q' 'S' 'C']\n",
            "\n"
          ],
          "name": "stdout"
        }
      ]
    },
    {
      "cell_type": "markdown",
      "metadata": {
        "id": "qPIGyJ-Wfffn"
      },
      "source": [
        "There are no anomalies in any of the categorical variables in both sets"
      ]
    },
    {
      "cell_type": "code",
      "metadata": {
        "colab": {
          "base_uri": "https://localhost:8080/"
        },
        "id": "6vdvlU1Yq2B3",
        "outputId": "1b82d3c7-5faa-4db9-e5d1-b87f2de5c6e6"
      },
      "source": [
        "# Check the shape of the train and test sets after cleaning\n",
        "print(f'The shape of the train set after cleaning is: {train.shape}\\nThe shape of the test set after cleaning is: {test.shape}')"
      ],
      "execution_count": 120,
      "outputs": [
        {
          "output_type": "stream",
          "text": [
            "The shape of the train set after cleaning is: (891, 8)\n",
            "The shape of the test set after cleaning is: (418, 7)\n"
          ],
          "name": "stdout"
        }
      ]
    },
    {
      "cell_type": "markdown",
      "metadata": {
        "id": "-Pj3gshrf_Qg"
      },
      "source": [
        "## Descriptive statistics"
      ]
    },
    {
      "cell_type": "markdown",
      "metadata": {
        "id": "_Npm-4TvgE20"
      },
      "source": [
        "### Univariate analysis  \n",
        "Univariate analysis will help us gain insights on the characteristics of each variable"
      ]
    },
    {
      "cell_type": "code",
      "metadata": {
        "colab": {
          "base_uri": "https://localhost:8080/",
          "height": 1000
        },
        "id": "rxx0_VvugEU2",
        "outputId": "c0bdf8e7-df8e-4152-afe0-ff12c00ad938"
      },
      "source": [
        "# Plot count plots to see the proportion of values  in each categorical variable and discrete numerical variable (train set)\n",
        "col_names= ['Pclass', 'Sex', 'Embarked', 'Survived', 'SibSp', 'Parch']\n",
        "\n",
        "\n",
        "# Set the size of the figure\n",
        "fig, ax = plt.subplots(len(col_names), figsize=(8,40))\n",
        "\n",
        "# Plot the countplots\n",
        "for i, col_val in enumerate(col_names):  \n",
        "    sns.countplot(x=train[col_val], ax=ax[i])\n",
        "    ax[i].set_title('Countplot for the values {} column '.format(col_val), fontsize=16)\n",
        "    ax[i].set_xlabel(col_val, fontsize=14)\n",
        "    ax[i].set_ylabel('Count', fontsize=14)\n",
        "    print(train[col_val].value_counts(normalize=True))"
      ],
      "execution_count": 121,
      "outputs": [
        {
          "output_type": "stream",
          "text": [
            "3   0.55\n",
            "1   0.24\n",
            "2   0.21\n",
            "Name: Pclass, dtype: float64\n",
            "male     0.65\n",
            "female   0.35\n",
            "Name: Sex, dtype: float64\n",
            "S   0.73\n",
            "C   0.19\n",
            "Q   0.09\n",
            "Name: Embarked, dtype: float64\n",
            "0   0.62\n",
            "1   0.38\n",
            "Name: Survived, dtype: float64\n",
            "0   0.68\n",
            "1   0.23\n",
            "2   0.03\n",
            "4   0.02\n",
            "3   0.02\n",
            "8   0.01\n",
            "5   0.01\n",
            "Name: SibSp, dtype: float64\n",
            "0   0.76\n",
            "1   0.13\n",
            "2   0.09\n",
            "5   0.01\n",
            "3   0.01\n",
            "4   0.00\n",
            "6   0.00\n",
            "Name: Parch, dtype: float64\n"
          ],
          "name": "stdout"
        },
        {
          "output_type": "display_data",
          "data": {
            "image/png": "[encoded data removed]",
            "text/plain": [
              "<Figure size 576x2880 with 6 Axes>"
            ]
          },
          "metadata": {
            "tags": [],
            "needs_background": "light"
          }
        }
      ]
    },
    {
      "cell_type": "markdown",
      "metadata": {
        "id": "Ijt2llB3s7oU"
      },
      "source": [
        "* Most of the passengers were in 3rd class followed by 1st class then 2nd class\n",
        "* Most of the passengers were males\n",
        "* The majority of the passengers embarked the titanic at Southampton port\n",
        "* The number of passengers who died was higher than the number of survirors  \n",
        "* Most of the passengers did not have a sibling or spouse on board\n",
        "* The majority of the passengers did not have a parent or child on board\n",
        "\n"
      ]
    },
    {
      "cell_type": "code",
      "metadata": {
        "colab": {
          "base_uri": "https://localhost:8080/",
          "height": 1000
        },
        "id": "AuDDWk2fxUCU",
        "outputId": "78d01160-b56d-48ff-bec1-3786599bc757"
      },
      "source": [
        "# Plot count plots to see the proportion of values  in each categorical variable and discrete numerical variable (test set)\n",
        "col_names= ['Pclass', 'Sex', 'Embarked', 'SibSp', 'Parch']\n",
        "\n",
        "\n",
        "# Set the size of the figure\n",
        "fig, ax = plt.subplots(len(col_names), figsize=(8,30))\n",
        "\n",
        "# Plot the countplots\n",
        "for i, col_val in enumerate(col_names):  \n",
        "    sns.countplot(x=test[col_val], ax=ax[i])\n",
        "    ax[i].set_title('Countplot for the values {} column '.format(col_val), fontsize=16)\n",
        "    ax[i].set_xlabel(col_val, fontsize=14)\n",
        "    ax[i].set_ylabel('Count', fontsize=14)\n",
        "    print(test[col_val].value_counts(normalize=True))"
      ],
      "execution_count": 122,
      "outputs": [
        {
          "output_type": "stream",
          "text": [
            "3   0.52\n",
            "1   0.26\n",
            "2   0.22\n",
            "Name: Pclass, dtype: float64\n",
            "male     0.64\n",
            "female   0.36\n",
            "Name: Sex, dtype: float64\n",
            "S   0.65\n",
            "C   0.24\n",
            "Q   0.11\n",
            "Name: Embarked, dtype: float64\n",
            "0   0.68\n",
            "1   0.26\n",
            "2   0.03\n",
            "4   0.01\n",
            "3   0.01\n",
            "8   0.00\n",
            "5   0.00\n",
            "Name: SibSp, dtype: float64\n",
            "0   0.78\n",
            "1   0.12\n",
            "2   0.08\n",
            "3   0.01\n",
            "9   0.00\n",
            "4   0.00\n",
            "6   0.00\n",
            "5   0.00\n",
            "Name: Parch, dtype: float64\n"
          ],
          "name": "stdout"
        },
        {
          "output_type": "display_data",
          "data": {
            "image/png": "[encoded data removed]",
            "text/plain": [
              "<Figure size 576x2160 with 5 Axes>"
            ]
          },
          "metadata": {
            "tags": [],
            "needs_background": "light"
          }
        }
      ]
    },
    {
      "cell_type": "markdown",
      "metadata": {
        "id": "UsLTQUCQxndN"
      },
      "source": [
        "Even though the proportions of the values have changed in the test set, the variables still have the same characteristics.\n",
        "* Most of the passengers were in 3rd class followed by 1st class then 2nd class\n",
        "* Most of the passengers were males\n",
        "* The majority of the passengers embarked the titanic at Southampton port\n",
        "* Most of the passengers did not have a sibling or spouse on board\n",
        "* The majority of the passengers did not have a parent or child on board\n",
        "* The number of survivors will be predicted using the model\n"
      ]
    },
    {
      "cell_type": "code",
      "metadata": {
        "colab": {
          "base_uri": "https://localhost:8080/"
        },
        "id": "Wi2MVuuy1L4R",
        "outputId": "9f225821-0bdb-4f54-d047-ec99c6e32016"
      },
      "source": [
        "# Compute the general statistical summaries of the continuous numerical variables in the train set and test set\n",
        "continuous = ['Age', 'Fare']\n",
        "print(f'The statistical summaries of the continuous numerical variables in the train set are:\\n{train[continuous].describe()}\\n\\nThe statistical summaries of the continuous numerical variables in the test set are:\\n{test[continuous].describe()}\\n\\n')\n",
        "\n",
        "# Compute the skewness of the values in the variables in each set\n",
        "print(f'The skewness of the values in each numerical variable in the train set is as follows:\\n{train[continuous].skew()}\\n\\nThe skewness of the values in each numerical variable in the test set is as follows:\\n{test[continuous].skew()}\\n\\n')\n",
        "\n",
        "# Compute the kurtosis of the values in the variables in each set\n",
        "print(f'The kurtosis of the values in each numerical variable in the train set is as follows:\\n{train[continuous].kurt()}\\n\\nThe kurtosis of the values in each numerical variable in the test set is as follows:\\n{test[continuous].kurt()}')\n"
      ],
      "execution_count": 123,
      "outputs": [
        {
          "output_type": "stream",
          "text": [
            "The statistical summaries of the continuous numerical variables in the train set are:\n",
            "         Age   Fare\n",
            "count 891.00 891.00\n",
            "mean   29.77  32.20\n",
            "std    13.02  49.69\n",
            "min     0.00   0.00\n",
            "25%    22.00   7.91\n",
            "50%    30.00  14.45\n",
            "75%    35.00  31.00\n",
            "max    80.00 512.33\n",
            "\n",
            "The statistical summaries of the continuous numerical variables in the test set are:\n",
            "         Age   Fare\n",
            "count 418.00 418.00\n",
            "mean   30.20  35.63\n",
            "std    12.63  55.84\n",
            "min     0.00   0.00\n",
            "25%    23.00   7.90\n",
            "50%    30.00  14.45\n",
            "75%    35.75  31.50\n",
            "max    76.00 512.33\n",
            "\n",
            "\n",
            "The skewness of the values in each numerical variable in the train set is as follows:\n",
            "Age    0.42\n",
            "Fare   4.79\n",
            "dtype: float64\n",
            "\n",
            "The skewness of the values in each numerical variable in the test set is as follows:\n",
            "Age    0.53\n",
            "Fare   3.69\n",
            "dtype: float64\n",
            "\n",
            "\n",
            "The kurtosis of the values in each numerical variable in the train set is as follows:\n",
            "Age     0.93\n",
            "Fare   33.40\n",
            "dtype: float64\n",
            "\n",
            "The kurtosis of the values in each numerical variable in the test set is as follows:\n",
            "Age     0.89\n",
            "Fare   17.97\n",
            "dtype: float64\n"
          ],
          "name": "stdout"
        }
      ]
    },
    {
      "cell_type": "markdown",
      "metadata": {
        "id": "GlVBamKpsoI_"
      },
      "source": [
        "* 'Age' is moderately/fairly distributed while 'Fare' is highly skewed to the right.\n",
        "* We will plot histograms to visualize the distribution of values in the two columns "
      ]
    },
    {
      "cell_type": "code",
      "metadata": {
        "id": "uB6_zqvTeBLH",
        "colab": {
          "base_uri": "https://localhost:8080/",
          "height": 899
        },
        "outputId": "b813f770-eb4f-418c-8558-90bea9e173b6"
      },
      "source": [
        "# Plot histograms to see the distributions of values in each numerical variable (train set)\n",
        "col_names= continuous\n",
        "\n",
        "# Set the size of the figure\n",
        "fig, ax = plt.subplots(len(col_names), figsize=(10,15))\n",
        "\n",
        "# Plot the histograms\n",
        "for i, col_val in enumerate(col_names):\n",
        "    sns.histplot(train[col_val], bins=10, ax=ax[i])\n",
        "    ax[i].set_title('Distribution of values in {} column '.format(col_val), fontsize=16)\n",
        "    ax[i].set_xlabel(col_val, fontsize=14)\n",
        "    ax[i].set_ylabel('Count', fontsize=14)"
      ],
      "execution_count": 124,
      "outputs": [
        {
          "output_type": "display_data",
          "data": {
            "image/png": "[encoded data removed]",
            "text/plain": [
              "<Figure size 720x1080 with 2 Axes>"
            ]
          },
          "metadata": {
            "tags": [],
            "needs_background": "light"
          }
        }
      ]
    },
    {
      "cell_type": "code",
      "metadata": {
        "colab": {
          "base_uri": "https://localhost:8080/",
          "height": 899
        },
        "id": "zc8AYpibuUfH",
        "outputId": "6897a3ae-2c12-4bbb-f81c-a36056634325"
      },
      "source": [
        "# Plot histograms to see the distributions of values in each numerical variable (test set)\n",
        "col_names= continuous\n",
        "\n",
        "# Set the size of the figure\n",
        "fig, ax = plt.subplots(len(col_names), figsize=(10,15))\n",
        "\n",
        "# Plot the histograms\n",
        "for i, col_val in enumerate(col_names):\n",
        "    sns.histplot(test[col_val], bins=10, ax=ax[i])\n",
        "    ax[i].set_title('Distribution of values in {} column '.format(col_val), fontsize=16)\n",
        "    ax[i].set_xlabel(col_val, fontsize=14)\n",
        "    ax[i].set_ylabel('Count', fontsize=14)"
      ],
      "execution_count": 125,
      "outputs": [
        {
          "output_type": "display_data",
          "data": {
            "image/png": "[encoded data removed]",
            "text/plain": [
              "<Figure size 720x1080 with 2 Axes>"
            ]
          },
          "metadata": {
            "tags": [],
            "needs_background": "light"
          }
        }
      ]
    },
    {
      "cell_type": "markdown",
      "metadata": {
        "id": "REZe6ClAAuqd"
      },
      "source": [
        "* The values in 'Age' columns are fairly/moderately distributed with a majority of the passengers being between ages 25 and 30\n",
        "* The values in 'Fare' columns are right skewed with a majority of the passengers paying between 0-50 for fare"
      ]
    },
    {
      "cell_type": "markdown",
      "metadata": {
        "id": "RNe3AFFIwzO9"
      },
      "source": [
        "### Bivariate analysis\n",
        "Bivariate analysis will enable us to establish the relationship between two variables"
      ]
    },
    {
      "cell_type": "code",
      "metadata": {
        "colab": {
          "base_uri": "https://localhost:8080/",
          "height": 1000
        },
        "id": "qT4S8O4Qmc4T",
        "outputId": "173fe02a-fff0-40d1-811c-2531eac6fae5"
      },
      "source": [
        "# Plot bar graphs to see the survival rates of the individuals per the different categotical and discrete numerical variables\n",
        "\n",
        "# Create a list of the variables\n",
        "col_names= ['Pclass', 'Sex', 'Embarked', 'SibSp', 'Parch']\n",
        "\n",
        "# Plot the bar graphs\n",
        "for col_val in col_names:\n",
        "  cross_tab = pd.crosstab(train[col_val],train['Survived']) # Create a crosstab that compares the number of survivors and deceased for each value in each variable \n",
        "  cross_tab.div(cross_tab.sum(1).astype(float), axis=0).plot(kind='bar', figsize = (10,8), stacked=False) # Find the proportions of the values and plot a bar graph\n",
        "  plt.title('Survival Rate vs {}'.format(col_val), fontsize = 16)\n",
        "  plt.xlabel(col_val, fontsize = 14)\n",
        "  plt.ylabel('Proportion of individuals', fontsize = 14)\n",
        "  plt.xticks(rotation = 'horizontal')\n",
        "  plt.show()\n",
        "  print('')"
      ],
      "execution_count": 126,
      "outputs": [
        {
          "output_type": "display_data",
          "data": {
            "image/png": "[encoded data removed]",
            "text/plain": [
              "<Figure size 720x576 with 1 Axes>"
            ]
          },
          "metadata": {
            "tags": [],
            "needs_background": "light"
          }
        },
        {
          "output_type": "stream",
          "text": [
            "\n"
          ],
          "name": "stdout"
        },
        {
          "output_type": "display_data",
          "data": {
            "image/png": "[encoded data removed]",
            "text/plain": [
              "<Figure size 720x576 with 1 Axes>"
            ]
          },
          "metadata": {
            "tags": [],
            "needs_background": "light"
          }
        },
        {
          "output_type": "stream",
          "text": [
            "\n"
          ],
          "name": "stdout"
        },
        {
          "output_type": "display_data",
          "data": {
            "image/png": "[encoded data removed]",
            "text/plain": [
              "<Figure size 720x576 with 1 Axes>"
            ]
          },
          "metadata": {
            "tags": [],
            "needs_background": "light"
          }
        },
        {
          "output_type": "stream",
          "text": [
            "\n"
          ],
          "name": "stdout"
        },
        {
          "output_type": "display_data",
          "data": {
            "image/png": "[encoded data removed]",
            "text/plain": [
              "<Figure size 720x576 with 1 Axes>"
            ]
          },
          "metadata": {
            "tags": [],
            "needs_background": "light"
          }
        },
        {
          "output_type": "stream",
          "text": [
            "\n"
          ],
          "name": "stdout"
        },
        {
          "output_type": "display_data",
          "data": {
            "image/png": "[encoded data removed]",
            "text/plain": [
              "<Figure size 720x576 with 1 Axes>"
            ]
          },
          "metadata": {
            "tags": [],
            "needs_background": "light"
          }
        },
        {
          "output_type": "stream",
          "text": [
            "\n"
          ],
          "name": "stdout"
        }
      ]
    },
    {
      "cell_type": "markdown",
      "metadata": {
        "id": "r3VDwv_oYjrd"
      },
      "source": [
        "* Over 70% of the individuals in 3rd class died and over 60% of the individualss in first class survived\n",
        "* Over 70% of the females survived while a little over 80% of the males died\n",
        "* Over 60% of the passengers who embarked the titanic at Southampton port died, about 60% of the passengers who embarked the titanic at Queenstown port died, and over 50% of the individuals who embarked the titanic at Cherbourg survived.\n"
      ]
    },
    {
      "cell_type": "code",
      "metadata": {
        "colab": {
          "base_uri": "https://localhost:8080/",
          "height": 897
        },
        "id": "P6YNd1gJXjhE",
        "outputId": "9ba31d0e-f820-4032-db6b-4463e00da5a7"
      },
      "source": [
        "# Check the relationship between the survival status and age and fare using boxplots\n",
        "\n",
        "# Specify the size of the figure\n",
        "fig, ax = plt.subplots(len(continuous), figsize=(8,15))\n",
        "\n",
        "# Plot boxplots for each variable\n",
        "for i, col_val in enumerate(continuous):\n",
        "\n",
        "    sns.boxplot(y=train[col_val], x=train['Survived'], ax=ax[i])\n",
        "    ax[i].set_title('Box Plot for {} vs Survival Status '.format(col_val), fontsize=14)\n",
        "    ax[i].set_xlabel(col_val, fontsize=12)\n",
        "    ax[i].set_ylabel('Values', fontsize=12)"
      ],
      "execution_count": 127,
      "outputs": [
        {
          "output_type": "display_data",
          "data": {
            "image/png": "[encoded data removed]",
            "text/plain": [
              "<Figure size 576x1080 with 2 Axes>"
            ]
          },
          "metadata": {
            "tags": [],
            "needs_background": "light"
          }
        }
      ]
    },
    {
      "cell_type": "markdown",
      "metadata": {
        "id": "S-vbwiWx2qso"
      },
      "source": [
        "* The interquatile range of ages of the survivors is larger than the interquartile range of ages of the deceased\n",
        "* The median age of the survivors is lower than the median age of the deceased\n",
        "* The interquartile range of fare of the survivors is larger than the interquartile range of range of the deceased\n",
        "* The median fare of the survivors is higher than the median fare of the deceased"
      ]
    },
    {
      "cell_type": "code",
      "metadata": {
        "id": "SnqVzNOn9T6Q",
        "colab": {
          "base_uri": "https://localhost:8080/",
          "height": 501
        },
        "outputId": "30f16dab-cb42-4baa-92a5-af59c06d85ca"
      },
      "source": [
        "# Calculate the pearson correlation of the numerical variables\n",
        "pearson_corr = train.corr()\n",
        "\n",
        "# Specify the size of the figure\n",
        "plt.figure(figsize=(10,8)) \n",
        "\n",
        "# Plot a correlation heat map\n",
        "sns.heatmap(pearson_corr, xticklabels=pearson_corr.columns, yticklabels=pearson_corr.columns, annot=True)\n",
        "# Label the chart\n",
        "plt.title('Pearson Correlation', fontsize=15, y=1.015)\n",
        "# Display the heatmap\n",
        "plt.show()\n",
        "\n"
      ],
      "execution_count": 128,
      "outputs": [
        {
          "output_type": "display_data",
          "data": {
            "image/png": "[encoded data removed]",
            "text/plain": [
              "<Figure size 720x576 with 2 Axes>"
            ]
          },
          "metadata": {
            "tags": [],
            "needs_background": "light"
          }
        }
      ]
    },
    {
      "cell_type": "markdown",
      "metadata": {
        "id": "0W5qXZei7fTn"
      },
      "source": [
        "There is a moderate inverse correlation between fare and pclass"
      ]
    },
    {
      "cell_type": "markdown",
      "metadata": {
        "id": "W9VmexfZBYLq"
      },
      "source": [
        "## Predictive analysis  \n",
        "KNN  \n",
        "We will build a KNN model to predict whether the some individuals died or survived depending on the data given in the test set.  \n",
        "Before building the model we need to check for multicollinearity as its presence may affect the performance of the model"
      ]
    },
    {
      "cell_type": "code",
      "metadata": {
        "id": "R6QeDoEMFb26"
      },
      "source": [
        "# Convert the values in 'Sex' and 'Embarked' columns to numerics\n",
        "\n",
        "# Make a copy of the datasets\n",
        "train_copy = train.copy()\n",
        "test_copy = test.copy()\n",
        "\n",
        "# Change the values\n",
        "train_copy = train_copy.replace({'male':'1', 'female':'0', 'S':'1', 'C':'2', 'Q':'3'})\n",
        "test_copy = test_copy.replace({'male':'1', 'female':'0', 'S':'1', 'C':'2', 'Q':'3'})"
      ],
      "execution_count": 129,
      "outputs": []
    },
    {
      "cell_type": "markdown",
      "metadata": {
        "id": "O0k1A4xUCPnp"
      },
      "source": [
        "### Multicollinearity check"
      ]
    },
    {
      "cell_type": "code",
      "metadata": {
        "colab": {
          "base_uri": "https://localhost:8080/",
          "height": 200
        },
        "id": "9ccQzdS87OwP",
        "outputId": "86396073-8082-4fc6-c0ed-51cd9e1609af"
      },
      "source": [
        "# Compute the VIF scores of the independent variables to check for multicollinearity\n",
        "\n",
        "# Specify the independent variables\n",
        "independent = train_copy.drop('Survived', axis=1)\n",
        "\n",
        "# Compute the correlation coefficients of the variables\n",
        "correlation = independent.corr()\n",
        "\n",
        "# Compute and display the VIF scores\n",
        "VIF = pd.DataFrame(np.linalg.inv(correlation.values), index = correlation.index, columns = correlation.columns)\n",
        "VIF"
      ],
      "execution_count": 130,
      "outputs": [
        {
          "output_type": "execute_result",
          "data": {
            "text/html": [
              "<div>\n",
              "<style scoped>\n",
              "    .dataframe tbody tr th:only-of-type {\n",
              "        vertical-align: middle;\n",
              "    }\n",
              "\n",
              "    .dataframe tbody tr th {\n",
              "        vertical-align: top;\n",
              "    }\n",
              "\n",
              "    .dataframe thead th {\n",
              "        text-align: right;\n",
              "    }\n",
              "</style>\n",
              "<table border=\"1\" class=\"dataframe\">\n",
              "  <thead>\n",
              "    <tr style=\"text-align: right;\">\n",
              "      <th></th>\n",
              "      <th>Pclass</th>\n",
              "      <th>Age</th>\n",
              "      <th>SibSp</th>\n",
              "      <th>Parch</th>\n",
              "      <th>Fare</th>\n",
              "    </tr>\n",
              "  </thead>\n",
              "  <tbody>\n",
              "    <tr>\n",
              "      <th>Pclass</th>\n",
              "      <td>1.65</td>\n",
              "      <td>0.41</td>\n",
              "      <td>-0.15</td>\n",
              "      <td>-0.09</td>\n",
              "      <td>0.91</td>\n",
              "    </tr>\n",
              "    <tr>\n",
              "      <th>Age</th>\n",
              "      <td>0.41</td>\n",
              "      <td>1.20</td>\n",
              "      <td>0.19</td>\n",
              "      <td>0.12</td>\n",
              "      <td>0.06</td>\n",
              "    </tr>\n",
              "    <tr>\n",
              "      <th>SibSp</th>\n",
              "      <td>-0.15</td>\n",
              "      <td>0.19</td>\n",
              "      <td>1.28</td>\n",
              "      <td>-0.45</td>\n",
              "      <td>-0.20</td>\n",
              "    </tr>\n",
              "    <tr>\n",
              "      <th>Parch</th>\n",
              "      <td>-0.09</td>\n",
              "      <td>0.12</td>\n",
              "      <td>-0.45</td>\n",
              "      <td>1.27</td>\n",
              "      <td>-0.26</td>\n",
              "    </tr>\n",
              "    <tr>\n",
              "      <th>Fare</th>\n",
              "      <td>0.91</td>\n",
              "      <td>0.06</td>\n",
              "      <td>-0.20</td>\n",
              "      <td>-0.26</td>\n",
              "      <td>1.59</td>\n",
              "    </tr>\n",
              "  </tbody>\n",
              "</table>\n",
              "</div>"
            ],
            "text/plain": [
              "        Pclass  Age  SibSp  Parch  Fare\n",
              "Pclass    1.65 0.41  -0.15  -0.09  0.91\n",
              "Age       0.41 1.20   0.19   0.12  0.06\n",
              "SibSp    -0.15 0.19   1.28  -0.45 -0.20\n",
              "Parch    -0.09 0.12  -0.45   1.27 -0.26\n",
              "Fare      0.91 0.06  -0.20  -0.26  1.59"
            ]
          },
          "metadata": {
            "tags": []
          },
          "execution_count": 130
        }
      ]
    },
    {
      "cell_type": "markdown",
      "metadata": {
        "id": "Kg0A_ZKNG6-a"
      },
      "source": [
        "The scores are within acceptable ranges, therefore, there is no need for dropping any variable"
      ]
    },
    {
      "cell_type": "markdown",
      "metadata": {
        "id": "kw2dN8gOIp4O"
      },
      "source": [
        "### Modelling"
      ]
    },
    {
      "cell_type": "code",
      "metadata": {
        "id": "YMrD1fWLrMcY"
      },
      "source": [
        "# Data preparation\n",
        "\n",
        "# Divide the data into \"attributes\" and \"labels\" by assigning the attributes to variable X and the label to variable y \n",
        "X = train_copy.drop(['Survived'], axis=1)\n",
        "y = train_copy[\"Survived\"]\n",
        "\n",
        "# Feature Scaling\n",
        "\n",
        "# Scale the features so they can have relatively normal distributions and so that they can all be uniformly evaluated\n",
        "scaler = MinMaxScaler()\n",
        "X = scaler.fit_transform(X) "
      ],
      "execution_count": 131,
      "outputs": []
    },
    {
      "cell_type": "markdown",
      "metadata": {
        "id": "HxVRCKjeRmyV"
      },
      "source": [
        "#### 80-20 split"
      ]
    },
    {
      "cell_type": "code",
      "metadata": {
        "id": "ZuTM-0TB5nQ0"
      },
      "source": [
        "# Split the data into training and test sets\n",
        "X_train, X_test, y_train, y_test = train_test_split(X, y, test_size=0.2, random_state=30)\n",
        "# The script above splits 80% of the data to training set and 20% of the data to test set"
      ],
      "execution_count": 132,
      "outputs": []
    },
    {
      "cell_type": "code",
      "metadata": {
        "id": "WlAYrsbLSEsU"
      },
      "source": [
        "# Traning the algorithm and making predictions\n",
        "\n",
        "# Instantiate KNN classifier \n",
        "knn = KNeighborsClassifier(n_neighbors=3) # use default values of the other parameters\n",
        "\n",
        "# Fit the model to the training data\n",
        "knn.fit(X_train, y_train)\n",
        "\n",
        "# Generate predictions based on the given test data\n",
        "y_pred = knn.predict(X_test)"
      ],
      "execution_count": 133,
      "outputs": []
    },
    {
      "cell_type": "code",
      "metadata": {
        "colab": {
          "base_uri": "https://localhost:8080/"
        },
        "id": "OXWR_-VsVDGy",
        "outputId": "a6af6673-eb03-4844-bf78-da77905a5af3"
      },
      "source": [
        "# Evaluating the model\n",
        "\n",
        "# Use accuracy_score function to compute the accuracy of the algorithm by finding the proportion of correct predictions\n",
        "accuracy = accuracy_score(y_test, y_pred)\n",
        "\n",
        "# Print the accuracy value\n",
        "print('Accuracy: {:0.2f}%' .format(100*(accuracy)))\n",
        "\n",
        "# Print the cofusion matrix\n",
        "print(f'Confusion matrix:\\n{confusion_matrix(y_test, y_pred)}\\n')\n"
      ],
      "execution_count": 134,
      "outputs": [
        {
          "output_type": "stream",
          "text": [
            "Accuracy: 79.33%\n",
            "Confusion matrix:\n",
            "[[91 17]\n",
            " [20 51]]\n",
            "\n"
          ],
          "name": "stdout"
        }
      ]
    },
    {
      "cell_type": "code",
      "metadata": {
        "colab": {
          "base_uri": "https://localhost:8080/"
        },
        "id": "PeSfdGJFXdH_",
        "outputId": "9a4e0d1a-95e3-4cfc-e133-82e984c3cb8e"
      },
      "source": [
        "# Classification report\n",
        "\n",
        "# Generate the classification report to further evaluate the performance of the model\n",
        "print(classification_report(y_test, y_pred))"
      ],
      "execution_count": 135,
      "outputs": [
        {
          "output_type": "stream",
          "text": [
            "              precision    recall  f1-score   support\n",
            "\n",
            "           0       0.82      0.84      0.83       108\n",
            "           1       0.75      0.72      0.73        71\n",
            "\n",
            "    accuracy                           0.79       179\n",
            "   macro avg       0.78      0.78      0.78       179\n",
            "weighted avg       0.79      0.79      0.79       179\n",
            "\n"
          ],
          "name": "stdout"
        }
      ]
    },
    {
      "cell_type": "markdown",
      "metadata": {
        "id": "Lenq3hGeidwg"
      },
      "source": [
        "Using the 80-20 split the model is able to predict 79.33% of the data correctly.  \n",
        "The classification report shows that the model has been able to predict 72% of the survival cases  and 84% of the death cases correctly.\n",
        "The precision in predicting death cases is 82% while the precision in predicting survival cases is 75%"
      ]
    },
    {
      "cell_type": "markdown",
      "metadata": {
        "id": "zzYg_VRkZgvF"
      },
      "source": [
        "#### 70-30 split"
      ]
    },
    {
      "cell_type": "code",
      "metadata": {
        "id": "2YoBmbKyZfyK"
      },
      "source": [
        "# Split the data into training and test sets\n",
        "X_train1, X_test1, y_train1, y_test1 = train_test_split(X, y, test_size=0.3, random_state=30)\n",
        "# The script above splits 70% of the data to training set and 30% of the data to test set"
      ],
      "execution_count": 136,
      "outputs": []
    },
    {
      "cell_type": "code",
      "metadata": {
        "id": "KEQm3r2yZfyT"
      },
      "source": [
        "# Traning the algorithm and making predictions\n",
        "\n",
        "# Instantiate KNN classifier \n",
        "knn = KNeighborsClassifier(n_neighbors=3) # use default values of the parameters\n",
        "\n",
        "# Fit the model to the training data\n",
        "knn.fit(X_train1, y_train1)\n",
        "\n",
        "# Generate predictions based on the given test data\n",
        "y_pred1 = knn.predict(X_test1)"
      ],
      "execution_count": 137,
      "outputs": []
    },
    {
      "cell_type": "code",
      "metadata": {
        "colab": {
          "base_uri": "https://localhost:8080/"
        },
        "id": "OBOB-CHsZfyU",
        "outputId": "f2ca6175-dae5-4294-9f0b-ab9cf58a446c"
      },
      "source": [
        "# Evaluating the model\n",
        "\n",
        "# Use accuracy_score function to compute the accuracy of the algorithm by finding the proportion of correct predictions\n",
        "accuracy1 = accuracy_score(y_test1, y_pred1)\n",
        "\n",
        "# Print the accuracy value\n",
        "print('Accuracy: {:0.2f}%' .format(100*(accuracy1)))\n",
        "\n",
        "# Print the cofusion matrix\n",
        "print(f'Confusion matrix:\\n{confusion_matrix(y_test1, y_pred1)}\\n')\n"
      ],
      "execution_count": 138,
      "outputs": [
        {
          "output_type": "stream",
          "text": [
            "Accuracy: 77.99%\n",
            "Confusion matrix:\n",
            "[[135  25]\n",
            " [ 34  74]]\n",
            "\n"
          ],
          "name": "stdout"
        }
      ]
    },
    {
      "cell_type": "code",
      "metadata": {
        "colab": {
          "base_uri": "https://localhost:8080/"
        },
        "id": "FzCQ9IqMZfyV",
        "outputId": "59978581-9b79-4120-d6bf-62a635bd9a57"
      },
      "source": [
        "# Classification report\n",
        "\n",
        "# Generate the classification report to further evaluate the performance of the model\n",
        "print(classification_report(y_test1, y_pred1))"
      ],
      "execution_count": 139,
      "outputs": [
        {
          "output_type": "stream",
          "text": [
            "              precision    recall  f1-score   support\n",
            "\n",
            "           0       0.80      0.84      0.82       160\n",
            "           1       0.75      0.69      0.71       108\n",
            "\n",
            "    accuracy                           0.78       268\n",
            "   macro avg       0.77      0.76      0.77       268\n",
            "weighted avg       0.78      0.78      0.78       268\n",
            "\n"
          ],
          "name": "stdout"
        }
      ]
    },
    {
      "cell_type": "markdown",
      "metadata": {
        "id": "1GnghAKsjl_I"
      },
      "source": [
        "Using the 70-30 split the model is able to predict 77.99% of the data correctly.  \n",
        "The classification report shows that the model has been able to predict 69% of the survival cases  and 84% of the death cases correctly.  \n",
        "The precision in predicting death cases is 80% while the precision in predicting survival cases is 74%"
      ]
    },
    {
      "cell_type": "markdown",
      "metadata": {
        "id": "Ntz5En8TarMF"
      },
      "source": [
        "#### 60-40 split"
      ]
    },
    {
      "cell_type": "code",
      "metadata": {
        "id": "8o3YNQl_aqEv"
      },
      "source": [
        "# Split the data into training and test sets\n",
        "X_train2, X_test2, y_train2, y_test2 = train_test_split(X, y, test_size=0.4, random_state=30)\n",
        "# The script above splits 60% of the data to training set and 30% of the data to test set"
      ],
      "execution_count": 140,
      "outputs": []
    },
    {
      "cell_type": "code",
      "metadata": {
        "id": "koG5eWe9aqE0"
      },
      "source": [
        "# Traning the algorithm and making predictions\n",
        "\n",
        "# Instantiate KNN classifier \n",
        "knn = KNeighborsClassifier(n_neighbors=3) # use default values of the parameters\n",
        "\n",
        "# Fit the model to the training data\n",
        "knn.fit(X_train2, y_train2)\n",
        "\n",
        "# Generate predictions based on the given test data\n",
        "y_pred2 = knn.predict(X_test2)"
      ],
      "execution_count": 141,
      "outputs": []
    },
    {
      "cell_type": "code",
      "metadata": {
        "colab": {
          "base_uri": "https://localhost:8080/"
        },
        "id": "5IcylacaaqE0",
        "outputId": "d7eed66c-145a-4b68-bec6-c5f33ca5578a"
      },
      "source": [
        "# Evaluating the model\n",
        "\n",
        "# Use accuracy_score function to compute the accuracy of the algorithm by finding the proportion of correct predictions\n",
        "accuracy2 = accuracy_score(y_test2, y_pred2)\n",
        "\n",
        "# Print the accuracy value\n",
        "print('Accuracy: {:0.2f}%' .format(100*(accuracy2)))\n",
        "\n",
        "# Print the cofusion matrix\n",
        "print(f'Confusion matrix:\\n{confusion_matrix(y_test2, y_pred2)}\\n')\n"
      ],
      "execution_count": 142,
      "outputs": [
        {
          "output_type": "stream",
          "text": [
            "Accuracy: 78.99%\n",
            "Confusion matrix:\n",
            "[[181  37]\n",
            " [ 38 101]]\n",
            "\n"
          ],
          "name": "stdout"
        }
      ]
    },
    {
      "cell_type": "code",
      "metadata": {
        "colab": {
          "base_uri": "https://localhost:8080/"
        },
        "id": "2jOSjaQfaqE1",
        "outputId": "8d363662-8d8e-479b-ee48-74a458cc2b24"
      },
      "source": [
        "# Classification report\n",
        "\n",
        "# Generate the classification report to further evaluate the performance of the model\n",
        "print(classification_report(y_test2, y_pred2))"
      ],
      "execution_count": 143,
      "outputs": [
        {
          "output_type": "stream",
          "text": [
            "              precision    recall  f1-score   support\n",
            "\n",
            "           0       0.83      0.83      0.83       218\n",
            "           1       0.73      0.73      0.73       139\n",
            "\n",
            "    accuracy                           0.79       357\n",
            "   macro avg       0.78      0.78      0.78       357\n",
            "weighted avg       0.79      0.79      0.79       357\n",
            "\n"
          ],
          "name": "stdout"
        }
      ]
    },
    {
      "cell_type": "markdown",
      "metadata": {
        "id": "xLg0E7jRkLmF"
      },
      "source": [
        "Using the 60-40 split the model is able to predict 78.99% of the data correctly.  \n",
        "The classification report shows that the model has been able to predict 73% of the survival cases  and 83% of the death cases correctly.\n",
        "The precision in predicting death cases is 83% while the precision in predicting survival cases is 73%"
      ]
    },
    {
      "cell_type": "markdown",
      "metadata": {
        "id": "5yolXw3LdXMD"
      },
      "source": [
        "### Optimizing model performance\n",
        "The performance of KNN models can be improved by doing the following:\n",
        "* Applying dimensionality reduction techniques\n",
        "* Change the distance metric for different applications\n",
        "* Rescaling the data\n",
        "* Implementing weighted voting\n",
        "* Applying appropriate nearest-neighbour techniques  \n",
        "  \n",
        "Since we have already scaled our data, we will apply dimensionality reduction technique (LDA) to see how the model fairs, using the 80-20 split data."
      ]
    },
    {
      "cell_type": "code",
      "metadata": {
        "id": "Qux1eid-Z6Vb"
      },
      "source": [
        "# Instantiate LDA\n",
        "lda = LDA(n_components=1) # Use one component\n",
        "\n",
        "# Apply LDA to the data\n",
        "X_train = lda.fit_transform(X_train, y_train)\n",
        "X_test = lda.transform(X_test)"
      ],
      "execution_count": 144,
      "outputs": []
    },
    {
      "cell_type": "code",
      "metadata": {
        "id": "t4zVzAHDs8b6"
      },
      "source": [
        "# Traning the algorithm and making predictions\n",
        "\n",
        "# Instantiate KNN classifier \n",
        "knn = KNeighborsClassifier(n_neighbors=3) # use default values of the parameters\n",
        "\n",
        "# Fit the model to the training data\n",
        "knn.fit(X_train, y_train)\n",
        "\n",
        "# Generate predictions based on the given test data\n",
        "y_pred3 = knn.predict(X_test)"
      ],
      "execution_count": 145,
      "outputs": []
    },
    {
      "cell_type": "code",
      "metadata": {
        "colab": {
          "base_uri": "https://localhost:8080/"
        },
        "id": "amuDghGYs8cD",
        "outputId": "b074da6f-8591-4d6d-d98d-5ead3829f666"
      },
      "source": [
        "# Evaluating the model\n",
        "\n",
        "# Use accuracy_score function to compute the accuracy of the algorithm by finding the proportion of correct predictions\n",
        "accuracy3 = accuracy_score(y_test, y_pred3)\n",
        "\n",
        "# Print the accuracy value\n",
        "print('Accuracy: {:0.2f}%' .format(100*(accuracy3)))\n",
        "# Print the cofusion matrix\n",
        "print(f'Confusion matrix:\\n{confusion_matrix(y_test, y_pred3)}\\n')\n"
      ],
      "execution_count": 146,
      "outputs": [
        {
          "output_type": "stream",
          "text": [
            "Accuracy: 74.86%\n",
            "Confusion matrix:\n",
            "[[86 22]\n",
            " [23 48]]\n",
            "\n"
          ],
          "name": "stdout"
        }
      ]
    },
    {
      "cell_type": "code",
      "metadata": {
        "colab": {
          "base_uri": "https://localhost:8080/"
        },
        "id": "toXDl-_Ps8cD",
        "outputId": "661f3104-61f6-4b6d-d278-c39d14c48d31"
      },
      "source": [
        "# Classification report\n",
        "\n",
        "# Generate the classification report to further evaluate the performance of the model\n",
        "print(classification_report(y_test, y_pred3))"
      ],
      "execution_count": 147,
      "outputs": [
        {
          "output_type": "stream",
          "text": [
            "              precision    recall  f1-score   support\n",
            "\n",
            "           0       0.79      0.80      0.79       108\n",
            "           1       0.69      0.68      0.68        71\n",
            "\n",
            "    accuracy                           0.75       179\n",
            "   macro avg       0.74      0.74      0.74       179\n",
            "weighted avg       0.75      0.75      0.75       179\n",
            "\n"
          ],
          "name": "stdout"
        }
      ]
    },
    {
      "cell_type": "markdown",
      "metadata": {
        "id": "4A-8ADtSs8cE"
      },
      "source": [
        "Dimensionality reduction has lowered the performance of the model instead of improving it.  \n",
        "The model has  predicted 74.86% of the data correctly.  \n",
        "The classification report shows that the model has been able to predict 68% of the survival cases  and 80% of the death cases correctly.\n",
        "The precision in predicting death cases is 79% while the precision in predicting survival cases is 69%  \n",
        "These values show that our data is not right for dimensionality reduction so we will stick to rescaling of data as a means of model optimization."
      ]
    },
    {
      "cell_type": "markdown",
      "metadata": {
        "id": "Ool_0JVq7B61"
      },
      "source": [
        "## Challenging the solution  \n",
        "We will challenge the solution by changing the distance metric to see how the model fairs. "
      ]
    },
    {
      "cell_type": "code",
      "metadata": {
        "id": "Y19xMrhEGoSe"
      },
      "source": [
        "# Split the data into training and test sets\n",
        "X_train, X_test, y_train, y_test = train_test_split(X, y, test_size=0.2, random_state=30)\n",
        "# The script above splits 80% of the data to training set and 20% of the data to test set"
      ],
      "execution_count": 148,
      "outputs": []
    },
    {
      "cell_type": "markdown",
      "metadata": {
        "id": "xo1ZEl0PHc7e"
      },
      "source": [
        ""
      ]
    },
    {
      "cell_type": "code",
      "metadata": {
        "id": "6Vf-khJcGMAS"
      },
      "source": [
        "# Traning the algorithm and making predictions\n",
        "\n",
        "# Instantiate KNN classifier \n",
        "knn = KNeighborsClassifier(n_neighbors=3, metric='manhattan') # use default values of the other parameters\n",
        "\n",
        "# Fit the model to the training data\n",
        "knn.fit(X_train, y_train)\n",
        "\n",
        "# Generate predictions based on the given test data\n",
        "y_pred4 = knn.predict(X_test)"
      ],
      "execution_count": 149,
      "outputs": []
    },
    {
      "cell_type": "code",
      "metadata": {
        "colab": {
          "base_uri": "https://localhost:8080/"
        },
        "id": "BxJlWf5OGMAc",
        "outputId": "fdcf3d24-8bff-42a2-bc2c-49011cacf422"
      },
      "source": [
        "# Evaluating the model\n",
        "\n",
        "# Use accuracy_score function to compute the accuracy of the algorithm by finding the proportion of correct predictions\n",
        "accuracy4 = accuracy_score(y_test, y_pred4)\n",
        "\n",
        "# Print the accuracy value\n",
        "print('Accuracy: {:0.2f}%' .format(100*(accuracy4)))\n",
        "\n",
        "# Print the cofusion matrix\n",
        "print(f'Confusion matrix:\\n{confusion_matrix(y_test, y_pred4)}')\n"
      ],
      "execution_count": 151,
      "outputs": [
        {
          "output_type": "stream",
          "text": [
            "Accuracy: 79.33%\n",
            "Confusion matrix:\n",
            "[[91 17]\n",
            " [20 51]]\n"
          ],
          "name": "stdout"
        }
      ]
    },
    {
      "cell_type": "code",
      "metadata": {
        "colab": {
          "base_uri": "https://localhost:8080/"
        },
        "id": "taKxFIOkGMAd",
        "outputId": "9c2979d0-89d2-40bd-b0e3-ee15757e257d"
      },
      "source": [
        "# Classification report\n",
        "\n",
        "# Generate the classification report to further evaluate the performance of the model\n",
        "print(classification_report(y_test, y_pred4))"
      ],
      "execution_count": 152,
      "outputs": [
        {
          "output_type": "stream",
          "text": [
            "              precision    recall  f1-score   support\n",
            "\n",
            "           0       0.82      0.84      0.83       108\n",
            "           1       0.75      0.72      0.73        71\n",
            "\n",
            "    accuracy                           0.79       179\n",
            "   macro avg       0.78      0.78      0.78       179\n",
            "weighted avg       0.79      0.79      0.79       179\n",
            "\n"
          ],
          "name": "stdout"
        }
      ]
    },
    {
      "cell_type": "markdown",
      "metadata": {
        "id": "BrhiavsIGMAd"
      },
      "source": [
        "The model's performance has not changed after changing the distance metric to 'manhattan'. The model's accuracy score is still 79.33%  \n",
        "The classification report shows that the model has been able to predict 72% of the survival cases  and 84% of the death cases correctly.\n",
        "The precision in predicting death cases is 82% while the precision in predicting survival cases is 75%. We will set the distance metric to 'euclidean' to see whether there will be any change."
      ]
    },
    {
      "cell_type": "code",
      "metadata": {
        "id": "FR1afStVHhjU"
      },
      "source": [
        "# Traning the algorithm and making predictions\n",
        "\n",
        "# Instantiate KNN classifier \n",
        "knn = KNeighborsClassifier(n_neighbors=3, metric='euclidean') # use default values of the other parameters\n",
        "\n",
        "# Fit the model to the training data\n",
        "knn.fit(X_train, y_train)\n",
        "\n",
        "# Generate predictions based on the given test data\n",
        "y_pred5 = knn.predict(X_test)"
      ],
      "execution_count": 153,
      "outputs": []
    },
    {
      "cell_type": "code",
      "metadata": {
        "colab": {
          "base_uri": "https://localhost:8080/"
        },
        "id": "z6y5nrtPHhjc",
        "outputId": "4fa9fd92-34d8-4e8a-b968-21cc324387ca"
      },
      "source": [
        "# Evaluating the model\n",
        "\n",
        "# Use accuracy_score function to compute the accuracy of the algorithm by finding the proportion of correct predictions\n",
        "accuracy5 = accuracy_score(y_test, y_pred5)\n",
        "\n",
        "# Print the accuracy value\n",
        "print('Accuracy: {:0.2f}%' .format(100*(accuracy5)))\n",
        "\n",
        "# Print the cofusion matrix\n",
        "print(f'Confusion matrix:\\n{confusion_matrix(y_test, y_pred5)}')\n"
      ],
      "execution_count": 154,
      "outputs": [
        {
          "output_type": "stream",
          "text": [
            "Accuracy: 79.33%\n",
            "Confusion matrix:\n",
            "[[91 17]\n",
            " [20 51]]\n"
          ],
          "name": "stdout"
        }
      ]
    },
    {
      "cell_type": "code",
      "metadata": {
        "colab": {
          "base_uri": "https://localhost:8080/"
        },
        "id": "7TZBcpK9Hhjc",
        "outputId": "aa3392f0-c8d7-445c-c7ec-a4077dd4d940"
      },
      "source": [
        "# Classification report\n",
        "\n",
        "# Generate the classification report to further evaluate the performance of the model\n",
        "print(classification_report(y_test, y_pred5))"
      ],
      "execution_count": 155,
      "outputs": [
        {
          "output_type": "stream",
          "text": [
            "              precision    recall  f1-score   support\n",
            "\n",
            "           0       0.82      0.84      0.83       108\n",
            "           1       0.75      0.72      0.73        71\n",
            "\n",
            "    accuracy                           0.79       179\n",
            "   macro avg       0.78      0.78      0.78       179\n",
            "weighted avg       0.79      0.79      0.79       179\n",
            "\n"
          ],
          "name": "stdout"
        }
      ]
    },
    {
      "cell_type": "markdown",
      "metadata": {
        "id": "pFxENazDIo3P"
      },
      "source": [
        "The model's performance has not changed after changing the distance metric to 'euclidean'. The model's accuracy score is still 79.33%  \n",
        "The classification report shows that the model has been able to predict 72% of the survival cases  and 84% of the death cases correctly.\n",
        "The precision in predicting death cases is 82% while the precision in predicting survival cases is 75%"
      ]
    },
    {
      "cell_type": "markdown",
      "metadata": {
        "id": "hPk7PyrtJGVh"
      },
      "source": [
        "## **Conclusions**  \n",
        "* The KNN model has done a decent job at predicting the survival status of the titanic passengers\n",
        "* The 80-20 split model has performed better than the other two\n",
        "* Rescaling of data is the only optimization technique that has improved the performance of the model. (Data reduction lowered the performance while, changing the distance metric made no impact to the model)\n",
        "* As much as the performance of the model is decent, it is lower than our metric of success, therefore the project can't be considered successful "
      ]
    },
    {
      "cell_type": "markdown",
      "metadata": {
        "id": "aILW_ihdKSIB"
      },
      "source": [
        "## **Recommendations**\n",
        "* One may tweak the values of the other parameters to see whether it makes a positive impact on the performance of the of the model\n",
        "* One may try out the other techniques of model performance optimization to establish whether they can improve the performance of the model\n",
        "* One may use other classification techniques such as decision trees to establish whether they can perform better than the KNN"
      ]
    },
    {
      "cell_type": "markdown",
      "metadata": {
        "id": "T3OEdH3H2kNb"
      },
      "source": [
        "### Predicting survival status given the test data"
      ]
    },
    {
      "cell_type": "code",
      "metadata": {
        "id": "poo9pAcV3M5L"
      },
      "source": [
        "# Data preparation\n",
        "\n",
        "# Divide the data into \"attributes\" and \"labels\"\n",
        "X_train3 = train_copy.drop(['Survived'], axis=1)\n",
        "y_train3 = train_copy[\"Survived\"]\n",
        "X_test3 = test_copy.values\n",
        "\n",
        "# Feature Scaling\n",
        "\n",
        "# Scale the features so they can have relatively normal distributions and so that they can all be uniformly evaluated\n",
        "scaler = MinMaxScaler()\n",
        "X_train3 = scaler.fit_transform(X_train3) \n",
        "X_test3 = scaler.fit_transform(X_test3)"
      ],
      "execution_count": 156,
      "outputs": []
    },
    {
      "cell_type": "code",
      "metadata": {
        "id": "wDyE3Pb83M5T"
      },
      "source": [
        "# Traning the algorithm and making predictions\n",
        "\n",
        "# Instantiate KNN classifier \n",
        "knn = KNeighborsClassifier(n_neighbors=3) # use default values of the other parameters\n",
        "\n",
        "# Fit the model to the training data\n",
        "knn.fit(X_train3, y_train3)\n",
        "\n",
        "# Generate predictions based on the given test data\n",
        "y_pred6 = knn.predict(X_test3)\n",
        "\n",
        "# create a dataframe that shows the preditions\n",
        "df = pd.DataFrame({'Prediction': y_pred6})\n"
      ],
      "execution_count": 157,
      "outputs": []
    },
    {
      "cell_type": "code",
      "metadata": {
        "id": "zA09Lys7Tcrv"
      },
      "source": [
        ""
      ],
      "execution_count": null,
      "outputs": []
    }
  ]
}